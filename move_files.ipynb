{
 "cells": [
  {
   "cell_type": "code",
   "execution_count": 5,
   "metadata": {},
   "outputs": [
    {
     "name": "stdout",
     "output_type": "stream",
     "text": [
      "i7_startup-config.cfg 7\n",
      "Le fichier i7_startup-config.cfg a été déplacé vers C:\\Users\\jbsim\\GNS3\\projects\\projet-NAP\\project-files\\dynamips\\1a31b219-aa7d-4a4b-a272-0a62292356e9\\configs\n",
      "i2_startup-config.cfg 2\n",
      "Le fichier i2_startup-config.cfg a été déplacé vers C:\\Users\\jbsim\\GNS3\\projects\\projet-NAP\\project-files\\dynamips\\423c1c7f-8245-435c-875a-245bc6393ca7\\configs\n",
      "i9_startup-config.cfg 9\n",
      "Le fichier i9_startup-config.cfg a été déplacé vers C:\\Users\\jbsim\\GNS3\\projects\\projet-NAP\\project-files\\dynamips\\4e227aca-5da2-48e4-ad8a-33a1ae79eb33\\configs\n",
      "i11_startup-config.cfg 1\n",
      "Le fichier i11_startup-config.cfg a été déplacé vers C:\\Users\\jbsim\\GNS3\\projects\\projet-NAP\\project-files\\dynamips\\6467ef1c-07db-4040-ad62-1287110af8ce\\configs\n",
      "i6_startup-config.cfg 6\n",
      "Le fichier i6_startup-config.cfg a été déplacé vers C:\\Users\\jbsim\\GNS3\\projects\\projet-NAP\\project-files\\dynamips\\73116f0e-8b3c-4ffd-adbc-d631efef318f\\configs\n",
      "i12_startup-config.cfg 1\n",
      "Le fichier i12_startup-config.cfg a été déplacé vers C:\\Users\\jbsim\\GNS3\\projects\\projet-NAP\\project-files\\dynamips\\9b97483e-9a68-400a-ab99-f6748907ef1d\\configs\n",
      "i4_startup-config.cfg 4\n",
      "Le fichier i4_startup-config.cfg a été déplacé vers C:\\Users\\jbsim\\GNS3\\projects\\projet-NAP\\project-files\\dynamips\\c5676e48-30a9-4969-a2ef-3b1563be0738\\configs\n",
      "i10_startup-config.cfg 1\n",
      "Le fichier i10_startup-config.cfg a été déplacé vers C:\\Users\\jbsim\\GNS3\\projects\\projet-NAP\\project-files\\dynamips\\c6cc061b-dc51-4858-825e-f74e6194758f\\configs\n",
      "i8_startup-config.cfg 8\n",
      "Le fichier i8_startup-config.cfg a été déplacé vers C:\\Users\\jbsim\\GNS3\\projects\\projet-NAP\\project-files\\dynamips\\d062ee12-ab48-4c80-83c0-2c5fbbc4fac9\\configs\n",
      "i14_startup-config.cfg 1\n",
      "Le fichier i14_startup-config.cfg a été déplacé vers C:\\Users\\jbsim\\GNS3\\projects\\projet-NAP\\project-files\\dynamips\\d3432f6d-d4cf-4df5-8746-931282925846\\configs\n",
      "i5_startup-config.cfg 5\n",
      "Le fichier i5_startup-config.cfg a été déplacé vers C:\\Users\\jbsim\\GNS3\\projects\\projet-NAP\\project-files\\dynamips\\ed976c33-cc10-472c-a2db-0cd610e20970\\configs\n",
      "i1_startup-config.cfg 1\n",
      "Le fichier i1_startup-config.cfg a été déplacé vers C:\\Users\\jbsim\\GNS3\\projects\\projet-NAP\\project-files\\dynamips\\eecbcbeb-b9bd-48ee-b8e1-d1d6aa25fbcc\\configs\n",
      "i3_startup-config.cfg 3\n",
      "Le fichier i3_startup-config.cfg a été déplacé vers C:\\Users\\jbsim\\GNS3\\projects\\projet-NAP\\project-files\\dynamips\\f1879f3c-9b38-468d-9c0f-8a95e43faab1\\configs\n",
      "i13_startup-config.cfg 1\n",
      "Le fichier i13_startup-config.cfg a été déplacé vers C:\\Users\\jbsim\\GNS3\\projects\\projet-NAP\\project-files\\dynamips\\f82318a9-6fa4-42d4-b40c-6b414b3998b8\\configs\n",
      "temps d'execution : 0.03922247886657715\n"
     ]
    }
   ],
   "source": [
    "import os\n",
    "import shutil\n",
    "import time\n",
    "\n",
    "def get_number_file(nom_fichier):\n",
    "    if nom_fichier in correct_files:\n",
    "        return int(nom_fichier[1:2])\n",
    "    else:\n",
    "        return None\n",
    "\n",
    "def compare_and_paste(dossier_source, dossier_destination):\n",
    "    noms_fichiers = os.listdir(os.path.join(os.getcwd(), dossier_destination))\n",
    "    for nom_fichier in noms_fichiers:\n",
    "        numero_fichier = get_number_file(nom_fichier)\n",
    "        print(nom_fichier, numero_fichier)\n",
    "        if numero_fichier is not None:\n",
    "            chemin_fichier_source = os.path.join(dossier_source, nom_fichier)\n",
    "            chemin_fichier_destination = os.path.join(dossier_destination, f\"i{numero_fichier}_startupconfig.cfg\")\n",
    "\n",
    "            try:\n",
    "                if os.path.exists(chemin_fichier_destination):\n",
    "                    os.remove(chemin_fichier_destination)\n",
    "                shutil.copy2(chemin_fichier_source, dossier_destination)\n",
    "                print(f\"Le fichier {nom_fichier} a été déplacé vers {dossier_destination}\")\n",
    "            except FileNotFoundError:\n",
    "                print(f\"Le fichier {nom_fichier} n'existe pas.\")\n",
    "            except PermissionError:\n",
    "                print(f\"Vous n'avez pas la permission de déplacer le fichier {nom_fichier}.\")\n",
    "\n",
    "\n",
    "start = time.time()\n",
    "\n",
    "path_correct_files = os.path.join(os.getcwd())\n",
    "correct_files = os.listdir(path_correct_files)\n",
    "\n",
    "# Dossier GNS3\n",
    "path_dossier_principal = r\"C:\\Users\\jbsim\\GNS3\\projects\\projet-NAP\\project-files\\dynamips\"\n",
    "dossiers = os.listdir(path_dossier_principal)\n",
    "\n",
    "for nom_dossier in dossiers:\n",
    "    path_dossier_destination = os.path.join(path_dossier_principal, nom_dossier, \"configs\")\n",
    "    if os.path.exists(path_dossier_destination):\n",
    "        compare_and_paste(path_correct_files, path_dossier_destination)\n",
    "\n",
    "end = time.time()\n",
    "print(\"temps d'execution :\", end-start)"
   ]
  }
 ],
 "metadata": {
  "kernelspec": {
   "display_name": "base",
   "language": "python",
   "name": "python3"
  },
  "language_info": {
   "codemirror_mode": {
    "name": "ipython",
    "version": 3
   },
   "file_extension": ".py",
   "mimetype": "text/x-python",
   "name": "python",
   "nbconvert_exporter": "python",
   "pygments_lexer": "ipython3",
   "version": "3.9.12"
  }
 },
 "nbformat": 4,
 "nbformat_minor": 2
}
