{
 "cells": [
  {
   "cell_type": "code",
   "execution_count": null,
   "metadata": {},
   "outputs": [],
   "source": [
    "pip install gns3fy"
   ]
  },
  {
   "cell_type": "code",
   "execution_count": 1,
   "metadata": {},
   "outputs": [],
   "source": [
    "import gns3fy"
   ]
  },
  {
   "cell_type": "code",
   "execution_count": 2,
   "metadata": {},
   "outputs": [],
   "source": [
    "server = gns3fy.Gns3Connector(\"http://localhost:3080\")"
   ]
  },
  {
   "cell_type": "code",
   "execution_count": 3,
   "metadata": {},
   "outputs": [],
   "source": [
    "lab = gns3fy.Project(name=\"GNS_v0\", connector=server)"
   ]
  },
  {
   "cell_type": "code",
   "execution_count": 4,
   "metadata": {},
   "outputs": [
    {
     "name": "stdout",
     "output_type": "stream",
     "text": [
      "Project(name='GNS_v0', project_id='f9a30b3e-69d7-4287-b267-f60d3b2b7286', status='opened', path='C:\\\\Users\\\\User\\\\GNS3\\\\projects\\\\GNS_v0', filename='GNS_v0.gns3', auto_start=False, auto_close=True, auto_open=False, drawing_grid_size=25, grid_size=75, scene_height=1000, scene_width=2000, show_grid=False, show_interface_labels=False, show_layers=False, snap_to_grid=False, supplier=None, variables=None, zoom=100, stats={'drawings': 0, 'links': 10, 'nodes': 7, 'snapshots': 0}, snapshots=None, drawings=None)\n"
     ]
    }
   ],
   "source": [
    "lab.get()\n",
    "print(lab)"
   ]
  },
  {
   "cell_type": "code",
   "execution_count": 5,
   "metadata": {},
   "outputs": [
    {
     "name": "stdout",
     "output_type": "stream",
     "text": [
      "Project(name='GNS_v0', project_id='f9a30b3e-69d7-4287-b267-f60d3b2b7286', status='opened', path='C:\\\\Users\\\\User\\\\GNS3\\\\projects\\\\GNS_v0', filename='GNS_v0.gns3', auto_start=False, auto_close=True, auto_open=False, drawing_grid_size=25, grid_size=75, scene_height=1000, scene_width=2000, show_grid=False, show_interface_labels=False, show_layers=False, snap_to_grid=False, supplier=None, variables=None, zoom=100, stats={'drawings': 0, 'links': 10, 'nodes': 7, 'snapshots': 0}, snapshots=None, drawings=None)\n",
      "Node: R1 -- Node Type: dynamips -- Status: started\n",
      "Node: R2 -- Node Type: dynamips -- Status: started\n",
      "Node: R3 -- Node Type: dynamips -- Status: started\n",
      "Node: R4 -- Node Type: dynamips -- Status: started\n",
      "Node: R5 -- Node Type: dynamips -- Status: started\n",
      "Node: R6 -- Node Type: dynamips -- Status: started\n",
      "Node: R7 -- Node Type: dynamips -- Status: started\n"
     ]
    }
   ],
   "source": [
    "import gns3fy\n",
    "\n",
    "# Define the server object to establish the connection\n",
    "gns3_server = gns3fy.Gns3Connector(\"http://localhost:3080\")\n",
    "\n",
    "# Define the lab you want to load and assign the server connector\n",
    "lab = gns3fy.Project(name=\"GNS_v0\", connector=gns3_server)\n",
    "\n",
    "# Retrieve its information and display\n",
    "lab.get()\n",
    "print(lab)\n",
    "\n",
    "# Open the project\n",
    "lab.open()\n",
    "lab.status\n",
    "\n",
    "# Verify the stats\n",
    "lab.stats\n",
    "\n",
    "# List the names and status of all the nodes in the project\n",
    "for node in lab.nodes:\n",
    "    print(f\"Node: {node.name} -- Node Type: {node.node_type} -- Status: {node.status}\")"
   ]
  },
  {
   "cell_type": "code",
   "execution_count": 6,
   "metadata": {},
   "outputs": [
    {
     "name": "stdout",
     "output_type": "stream",
     "text": [
      "GNS_v0\n",
      "NRP_TP_3_BGP\n",
      "NRP_TP_3_BGP_v1\n",
      "untitled\n"
     ]
    }
   ],
   "source": [
    "import gns3fy\n",
    "gns3_server = gns3fy.Gns3Connector(\"http://localhost:3080\")\n",
    "projects = gns3_server.get_projects()\n",
    "for project in projects:\n",
    "    print(project[\"name\"])"
   ]
  },
  {
   "cell_type": "code",
   "execution_count": 12,
   "metadata": {},
   "outputs": [],
   "source": [
    "import gns3fy\n",
    "\n",
    "# Connect to the GNS3 server\n",
    "gns3_server = gns3fy.Gns3Connector(\"http://localhost:3080\")\n",
    "\n",
    "# Define your project name\n",
    "project_name = \"GNS_v0\"\n",
    "project = gns3fy.Project(name=project_name, connector=gns3_server)\n",
    "project.get()\n",
    "\n",
    "# Define network intent: router names, interfaces, and IPv6 addresses\n",
    "network_intent = {\n",
    "    \"Router1\": {\n",
    "        \"interfaces\": {\n",
    "            \"GigabitEthernet1/0\": \"2001:db8:1::1/64\"\n",
    "        },\n",
    "        \"ripng_interfaces\": [\"GigabitEthernet1/0\"]\n",
    "    },\n",
    "    \"Router2\": {\n",
    "        \"interfaces\": {\n",
    "            \"GigabitEthernet1/0\": \"2001:db8:1::2/64\"\n",
    "        },\n",
    "        \"ripng_interfaces\": [\"GigabitEthernet1/0\"]\n",
    "    },\n",
    "    # Add more routers here\n",
    "}\n",
    "\n",
    "# Function to push configurations via Telnet\n",
    "def configure_router(node, config_commands):\n",
    "    node.console_start()  # Start the console if not already running\n",
    "    with node.console() as telnet:\n",
    "        telnet.read_until(b\"Router>\")\n",
    "        telnet.write(b\"enable\\n\")\n",
    "        telnet.read_until(b\"Router#\")\n",
    "        telnet.write(b\"configure terminal\\n\")\n",
    "        \n",
    "        # Apply each configuration command\n",
    "        for command in config_commands:\n",
    "            telnet.write(f\"{command}\\n\".encode())\n",
    "        \n",
    "        telnet.write(b\"end\\n\")\n",
    "        telnet.write(b\"write memory\\n\")\n",
    "        telnet.read_until(b\"Router#\")\n",
    "\n",
    "# Iterate over routers and apply configurations\n",
    "for node in project.nodes:\n",
    "    if node.name in network_intent:\n",
    "        router_config = []\n",
    "        intent = network_intent[node.name]\n",
    "        \n",
    "        # Configure IPv6 addresses\n",
    "        for interface, ipv6_address in intent[\"interfaces\"].items():\n",
    "            router_config.append(f\"interface {interface}\")\n",
    "            router_config.append(f\" ipv6 address {ipv6_address}\")\n",
    "            router_config.append(\" no shutdown\")\n",
    "        \n",
    "        # Enable RIPng\n",
    "        router_config.append(\"ipv6 router rip RIPNG\")\n",
    "        for interface in intent[\"ripng_interfaces\"]:\n",
    "            router_config.append(f\" interface {interface}\")\n",
    "            router_config.append(\" ipv6 rip RIPNG enable\")\n",
    "        \n",
    "        print(f\"Configuring {node.name}...\")\n",
    "        configure_router(node, router_config)\n",
    "        print(f\"{node.name} configured successfully!\")\n"
   ]
  },
  {
   "cell_type": "code",
   "execution_count": 7,
   "metadata": {},
   "outputs": [
    {
     "name": "stdout",
     "output_type": "stream",
     "text": [
      "Server response: [{'auto_close': True, 'auto_open': False, 'auto_start': False, 'drawing_grid_size': 25, 'filename': 'GNS_v0.gns3', 'grid_size': 75, 'name': 'GNS_v0', 'path': 'C:\\\\Users\\\\User\\\\GNS3\\\\projects\\\\GNS_v0', 'project_id': 'f9a30b3e-69d7-4287-b267-f60d3b2b7286', 'scene_height': 1000, 'scene_width': 2000, 'show_grid': False, 'show_interface_labels': False, 'show_layers': False, 'snap_to_grid': False, 'status': 'opened', 'supplier': None, 'variables': None, 'zoom': 100}, {'auto_close': True, 'auto_open': False, 'auto_start': False, 'drawing_grid_size': 25, 'filename': 'NRP_TP_3_BGP.gns3', 'grid_size': 75, 'name': 'NRP_TP_3_BGP', 'path': 'C:\\\\Users\\\\User\\\\GNS3\\\\projects\\\\NRP_TP_3_BGP', 'project_id': 'be9ce004-2fb6-4d9b-b286-be5da3984f5d', 'scene_height': 1000, 'scene_width': 2000, 'show_grid': False, 'show_interface_labels': True, 'show_layers': False, 'snap_to_grid': False, 'status': 'closed', 'supplier': None, 'variables': None, 'zoom': 100}, {'auto_close': False, 'auto_open': False, 'auto_start': False, 'drawing_grid_size': 25, 'filename': 'NRP_TP_3_BGP_v1.gns3', 'grid_size': 75, 'name': 'NRP_TP_3_BGP_v1', 'path': 'C:\\\\Users\\\\User\\\\GNS3\\\\projects\\\\NRP_TP_3_BGP_v1', 'project_id': 'e9b79014-b50c-46f0-93d1-bfcbc17d27e9', 'scene_height': 1000, 'scene_width': 2000, 'show_grid': False, 'show_interface_labels': False, 'show_layers': False, 'snap_to_grid': False, 'status': 'closed', 'supplier': None, 'variables': None, 'zoom': 71}, {'auto_close': True, 'auto_open': False, 'auto_start': False, 'drawing_grid_size': 25, 'filename': 'untitled.gns3', 'grid_size': 75, 'name': 'untitled', 'path': 'C:\\\\Users\\\\User\\\\GNS3\\\\projects\\\\untitled', 'project_id': 'c2bb80d0-7240-4715-a4d2-6554b9711c3d', 'scene_height': 1000, 'scene_width': 2000, 'show_grid': False, 'show_interface_labels': False, 'show_layers': False, 'snap_to_grid': False, 'status': 'closed', 'supplier': None, 'variables': None, 'zoom': 100}]\n"
     ]
    }
   ],
   "source": [
    "import requests\n",
    "\n",
    "response = requests.get(\"http://localhost:3080/v2/projects\")\n",
    "if response.status_code == 200:\n",
    "    print(\"Server response:\", response.json())\n",
    "else:\n",
    "    print(f\"Error: {response.status_code}, Response: {response.text}\")"
   ]
  },
  {
   "cell_type": "code",
   "execution_count": null,
   "metadata": {},
   "outputs": [],
   "source": [
    "pip install --upgrade gns3fy"
   ]
  },
  {
   "cell_type": "code",
   "execution_count": 17,
   "metadata": {},
   "outputs": [
    {
     "name": "stdout",
     "output_type": "stream",
     "text": [
      "Node(name='R1', project_id='f9a30b3e-69d7-4287-b267-f60d3b2b7286', node_id='808a2433-db8e-4c73-88cd-fbce41798616', compute_id='local', node_type='dynamips', node_directory='C:\\\\Users\\\\User\\\\GNS3\\\\projects\\\\GNS_v0\\\\project-files\\\\dynamips\\\\808a2433-db8e-4c73-88cd-fbce41798616', status='started', ports=[{'adapter_number': 0, 'data_link_types': {'Ethernet': 'DLT_EN10MB'}, 'link_type': 'ethernet', 'name': 'FastEthernet0/0', 'port_number': 0, 'short_name': 'f0/0'}, {'adapter_number': 1, 'data_link_types': {'Ethernet': 'DLT_EN10MB'}, 'link_type': 'ethernet', 'name': 'GigabitEthernet1/0', 'port_number': 0, 'short_name': 'g1/0'}, {'adapter_number': 2, 'data_link_types': {'Ethernet': 'DLT_EN10MB'}, 'link_type': 'ethernet', 'name': 'GigabitEthernet2/0', 'port_number': 0, 'short_name': 'g2/0'}, {'adapter_number': 3, 'data_link_types': {'Ethernet': 'DLT_EN10MB'}, 'link_type': 'ethernet', 'name': 'GigabitEthernet3/0', 'port_number': 0, 'short_name': 'g3/0'}], port_name_format='Ethernet{0}', port_segment_size=0, first_port_name=None, locked=False, label={'rotation': 0, 'style': 'font-family: TypeWriter;font-size: 10.0;font-weight: bold;fill: #000000;fill-opacity: 1.0;', 'text': 'R1', 'x': 17, 'y': -25}, console=5000, console_host='localhost', console_type='telnet', console_auto_start=False, command_line=None, custom_adapters=[], height=45, width=66, symbol=':/symbols/router.svg', x=-538, y=-59, z=1, template_id='0a44e74f-7d8f-4608-9d0d-be7b242aa705', properties={'auto_delete_disks': True, 'aux': None, 'clock_divisor': 4, 'disk0': 0, 'disk1': 0, 'dynamips_id': 1, 'exec_area': 64, 'idlemax': 500, 'idlepc': '', 'idlesleep': 30, 'image': 'c7200-advipservicesk9-mz.152-4.S5.image', 'image_md5sum': 'cbbbea66a253f1dac0fcf81274dc778d', 'mac_addr': 'ca01.14a4.0000', 'midplane': 'vxr', 'mmap': True, 'npe': 'npe-400', 'nvram': 512, 'platform': 'c7200', 'power_supplies': [1, 1], 'ram': 512, 'sensors': [22, 22, 22, 22], 'slot0': 'C7200-IO-FE', 'slot1': 'PA-GE', 'slot2': 'PA-GE', 'slot3': 'PA-GE', 'slot4': None, 'slot5': None, 'slot6': None, 'sparsemem': True, 'system_id': 'FTX0945W0MY', 'usage': ''}, template=None)\n",
      "Node(name='R2', project_id='f9a30b3e-69d7-4287-b267-f60d3b2b7286', node_id='98f39d86-866f-4586-8f48-9a3f7a9021f6', compute_id='local', node_type='dynamips', node_directory='C:\\\\Users\\\\User\\\\GNS3\\\\projects\\\\GNS_v0\\\\project-files\\\\dynamips\\\\98f39d86-866f-4586-8f48-9a3f7a9021f6', status='started', ports=[{'adapter_number': 0, 'data_link_types': {'Ethernet': 'DLT_EN10MB'}, 'link_type': 'ethernet', 'name': 'FastEthernet0/0', 'port_number': 0, 'short_name': 'f0/0'}, {'adapter_number': 1, 'data_link_types': {'Ethernet': 'DLT_EN10MB'}, 'link_type': 'ethernet', 'name': 'GigabitEthernet1/0', 'port_number': 0, 'short_name': 'g1/0'}, {'adapter_number': 2, 'data_link_types': {'Ethernet': 'DLT_EN10MB'}, 'link_type': 'ethernet', 'name': 'GigabitEthernet2/0', 'port_number': 0, 'short_name': 'g2/0'}, {'adapter_number': 3, 'data_link_types': {'Ethernet': 'DLT_EN10MB'}, 'link_type': 'ethernet', 'name': 'GigabitEthernet3/0', 'port_number': 0, 'short_name': 'g3/0'}], port_name_format='Ethernet{0}', port_segment_size=0, first_port_name=None, locked=False, label={'rotation': 0, 'style': 'font-family: TypeWriter;font-size: 10.0;font-weight: bold;fill: #000000;fill-opacity: 1.0;', 'text': 'R2', 'x': 17, 'y': -25}, console=5001, console_host='localhost', console_type='telnet', console_auto_start=False, command_line=None, custom_adapters=[], height=45, width=66, symbol=':/symbols/router.svg', x=-305, y=-235, z=1, template_id='0a44e74f-7d8f-4608-9d0d-be7b242aa705', properties={'auto_delete_disks': True, 'aux': None, 'clock_divisor': 4, 'disk0': 0, 'disk1': 0, 'dynamips_id': 2, 'exec_area': 64, 'idlemax': 500, 'idlepc': '', 'idlesleep': 30, 'image': 'c7200-advipservicesk9-mz.152-4.S5.image', 'image_md5sum': 'cbbbea66a253f1dac0fcf81274dc778d', 'mac_addr': 'ca02.3758.0000', 'midplane': 'vxr', 'mmap': True, 'npe': 'npe-400', 'nvram': 512, 'platform': 'c7200', 'power_supplies': [1, 1], 'ram': 512, 'sensors': [22, 22, 22, 22], 'slot0': 'C7200-IO-FE', 'slot1': 'PA-GE', 'slot2': 'PA-GE', 'slot3': 'PA-GE', 'slot4': None, 'slot5': None, 'slot6': None, 'sparsemem': True, 'system_id': 'FTX0945W0MY', 'usage': ''}, template=None)\n",
      "Node(name='R3', project_id='f9a30b3e-69d7-4287-b267-f60d3b2b7286', node_id='ba44598a-c984-4ca2-9d29-7dff4dbf63ef', compute_id='local', node_type='dynamips', node_directory='C:\\\\Users\\\\User\\\\GNS3\\\\projects\\\\GNS_v0\\\\project-files\\\\dynamips\\\\ba44598a-c984-4ca2-9d29-7dff4dbf63ef', status='started', ports=[{'adapter_number': 0, 'data_link_types': {'Ethernet': 'DLT_EN10MB'}, 'link_type': 'ethernet', 'name': 'FastEthernet0/0', 'port_number': 0, 'short_name': 'f0/0'}, {'adapter_number': 1, 'data_link_types': {'Ethernet': 'DLT_EN10MB'}, 'link_type': 'ethernet', 'name': 'GigabitEthernet1/0', 'port_number': 0, 'short_name': 'g1/0'}, {'adapter_number': 2, 'data_link_types': {'Ethernet': 'DLT_EN10MB'}, 'link_type': 'ethernet', 'name': 'GigabitEthernet2/0', 'port_number': 0, 'short_name': 'g2/0'}, {'adapter_number': 3, 'data_link_types': {'Ethernet': 'DLT_EN10MB'}, 'link_type': 'ethernet', 'name': 'GigabitEthernet3/0', 'port_number': 0, 'short_name': 'g3/0'}], port_name_format='Ethernet{0}', port_segment_size=0, first_port_name=None, locked=False, label={'rotation': 0, 'style': 'font-family: TypeWriter;font-size: 10.0;font-weight: bold;fill: #000000;fill-opacity: 1.0;', 'text': 'R3', 'x': 17, 'y': -25}, console=5002, console_host='localhost', console_type='telnet', console_auto_start=False, command_line=None, custom_adapters=[], height=45, width=66, symbol=':/symbols/router.svg', x=-309, y=135, z=1, template_id='0a44e74f-7d8f-4608-9d0d-be7b242aa705', properties={'auto_delete_disks': True, 'aux': None, 'clock_divisor': 4, 'disk0': 0, 'disk1': 0, 'dynamips_id': 3, 'exec_area': 64, 'idlemax': 500, 'idlepc': '', 'idlesleep': 30, 'image': 'c7200-advipservicesk9-mz.152-4.S5.image', 'image_md5sum': 'cbbbea66a253f1dac0fcf81274dc778d', 'mac_addr': 'ca03.3b30.0000', 'midplane': 'vxr', 'mmap': True, 'npe': 'npe-400', 'nvram': 512, 'platform': 'c7200', 'power_supplies': [1, 1], 'ram': 512, 'sensors': [22, 22, 22, 22], 'slot0': 'C7200-IO-FE', 'slot1': 'PA-GE', 'slot2': 'PA-GE', 'slot3': 'PA-GE', 'slot4': None, 'slot5': None, 'slot6': None, 'sparsemem': True, 'system_id': 'FTX0945W0MY', 'usage': ''}, template=None)\n",
      "Node(name='R4', project_id='f9a30b3e-69d7-4287-b267-f60d3b2b7286', node_id='f86a801a-50d2-49ab-b5a4-90c24723e4fd', compute_id='local', node_type='dynamips', node_directory='C:\\\\Users\\\\User\\\\GNS3\\\\projects\\\\GNS_v0\\\\project-files\\\\dynamips\\\\f86a801a-50d2-49ab-b5a4-90c24723e4fd', status='started', ports=[{'adapter_number': 0, 'data_link_types': {'Ethernet': 'DLT_EN10MB'}, 'link_type': 'ethernet', 'name': 'FastEthernet0/0', 'port_number': 0, 'short_name': 'f0/0'}, {'adapter_number': 1, 'data_link_types': {'Ethernet': 'DLT_EN10MB'}, 'link_type': 'ethernet', 'name': 'GigabitEthernet1/0', 'port_number': 0, 'short_name': 'g1/0'}, {'adapter_number': 2, 'data_link_types': {'Ethernet': 'DLT_EN10MB'}, 'link_type': 'ethernet', 'name': 'GigabitEthernet2/0', 'port_number': 0, 'short_name': 'g2/0'}, {'adapter_number': 3, 'data_link_types': {'Ethernet': 'DLT_EN10MB'}, 'link_type': 'ethernet', 'name': 'GigabitEthernet3/0', 'port_number': 0, 'short_name': 'g3/0'}], port_name_format='Ethernet{0}', port_segment_size=0, first_port_name=None, locked=False, label={'rotation': 0, 'style': 'font-family: TypeWriter;font-size: 10.0;font-weight: bold;fill: #000000;fill-opacity: 1.0;', 'text': 'R4', 'x': 17, 'y': -25}, console=5003, console_host='localhost', console_type='telnet', console_auto_start=False, command_line=None, custom_adapters=[], height=45, width=66, symbol=':/symbols/router.svg', x=-23, y=-235, z=1, template_id='0a44e74f-7d8f-4608-9d0d-be7b242aa705', properties={'auto_delete_disks': True, 'aux': None, 'clock_divisor': 4, 'disk0': 0, 'disk1': 0, 'dynamips_id': 4, 'exec_area': 64, 'idlemax': 500, 'idlepc': '', 'idlesleep': 30, 'image': 'c7200-advipservicesk9-mz.152-4.S5.image', 'image_md5sum': 'cbbbea66a253f1dac0fcf81274dc778d', 'mac_addr': 'ca04.0e50.0000', 'midplane': 'vxr', 'mmap': True, 'npe': 'npe-400', 'nvram': 512, 'platform': 'c7200', 'power_supplies': [1, 1], 'ram': 512, 'sensors': [22, 22, 22, 22], 'slot0': 'C7200-IO-FE', 'slot1': 'PA-GE', 'slot2': 'PA-GE', 'slot3': 'PA-GE', 'slot4': None, 'slot5': None, 'slot6': None, 'sparsemem': True, 'system_id': 'FTX0945W0MY', 'usage': ''}, template=None)\n",
      "Node(name='R5', project_id='f9a30b3e-69d7-4287-b267-f60d3b2b7286', node_id='a4b639a3-405d-4d1b-95db-57c481918e6c', compute_id='local', node_type='dynamips', node_directory='C:\\\\Users\\\\User\\\\GNS3\\\\projects\\\\GNS_v0\\\\project-files\\\\dynamips\\\\a4b639a3-405d-4d1b-95db-57c481918e6c', status='started', ports=[{'adapter_number': 0, 'data_link_types': {'Ethernet': 'DLT_EN10MB'}, 'link_type': 'ethernet', 'name': 'FastEthernet0/0', 'port_number': 0, 'short_name': 'f0/0'}, {'adapter_number': 1, 'data_link_types': {'Ethernet': 'DLT_EN10MB'}, 'link_type': 'ethernet', 'name': 'GigabitEthernet1/0', 'port_number': 0, 'short_name': 'g1/0'}, {'adapter_number': 2, 'data_link_types': {'Ethernet': 'DLT_EN10MB'}, 'link_type': 'ethernet', 'name': 'GigabitEthernet2/0', 'port_number': 0, 'short_name': 'g2/0'}, {'adapter_number': 3, 'data_link_types': {'Ethernet': 'DLT_EN10MB'}, 'link_type': 'ethernet', 'name': 'GigabitEthernet3/0', 'port_number': 0, 'short_name': 'g3/0'}], port_name_format='Ethernet{0}', port_segment_size=0, first_port_name=None, locked=False, label={'rotation': 0, 'style': 'font-family: TypeWriter;font-size: 10.0;font-weight: bold;fill: #000000;fill-opacity: 1.0;', 'text': 'R5', 'x': 15, 'y': -34}, console=5004, console_host='localhost', console_type='telnet', console_auto_start=False, command_line=None, custom_adapters=[], height=45, width=66, symbol=':/symbols/router.svg', x=-24, y=136, z=1, template_id='0a44e74f-7d8f-4608-9d0d-be7b242aa705', properties={'auto_delete_disks': True, 'aux': None, 'clock_divisor': 4, 'disk0': 0, 'disk1': 0, 'dynamips_id': 5, 'exec_area': 64, 'idlemax': 500, 'idlepc': '', 'idlesleep': 30, 'image': 'c7200-advipservicesk9-mz.152-4.S5.image', 'image_md5sum': 'cbbbea66a253f1dac0fcf81274dc778d', 'mac_addr': 'ca05.3c2c.0000', 'midplane': 'vxr', 'mmap': True, 'npe': 'npe-400', 'nvram': 512, 'platform': 'c7200', 'power_supplies': [1, 1], 'ram': 512, 'sensors': [22, 22, 22, 22], 'slot0': 'C7200-IO-FE', 'slot1': 'PA-GE', 'slot2': 'PA-GE', 'slot3': 'PA-GE', 'slot4': None, 'slot5': None, 'slot6': None, 'sparsemem': True, 'system_id': 'FTX0945W0MY', 'usage': ''}, template=None)\n",
      "Node(name='R6', project_id='f9a30b3e-69d7-4287-b267-f60d3b2b7286', node_id='ed40cdd0-01cc-4c70-a6c2-7b8410696897', compute_id='local', node_type='dynamips', node_directory='C:\\\\Users\\\\User\\\\GNS3\\\\projects\\\\GNS_v0\\\\project-files\\\\dynamips\\\\ed40cdd0-01cc-4c70-a6c2-7b8410696897', status='started', ports=[{'adapter_number': 0, 'data_link_types': {'Ethernet': 'DLT_EN10MB'}, 'link_type': 'ethernet', 'name': 'FastEthernet0/0', 'port_number': 0, 'short_name': 'f0/0'}, {'adapter_number': 1, 'data_link_types': {'Ethernet': 'DLT_EN10MB'}, 'link_type': 'ethernet', 'name': 'GigabitEthernet1/0', 'port_number': 0, 'short_name': 'g1/0'}, {'adapter_number': 2, 'data_link_types': {'Ethernet': 'DLT_EN10MB'}, 'link_type': 'ethernet', 'name': 'GigabitEthernet2/0', 'port_number': 0, 'short_name': 'g2/0'}, {'adapter_number': 3, 'data_link_types': {'Ethernet': 'DLT_EN10MB'}, 'link_type': 'ethernet', 'name': 'GigabitEthernet3/0', 'port_number': 0, 'short_name': 'g3/0'}], port_name_format='Ethernet{0}', port_segment_size=0, first_port_name=None, locked=False, label={'rotation': 0, 'style': 'font-family: TypeWriter;font-size: 10.0;font-weight: bold;fill: #000000;fill-opacity: 1.0;', 'text': 'R6', 'x': 17, 'y': -25}, console=5005, console_host='localhost', console_type='telnet', console_auto_start=False, command_line=None, custom_adapters=[], height=45, width=66, symbol=':/symbols/router.svg', x=301, y=-100, z=1, template_id='0a44e74f-7d8f-4608-9d0d-be7b242aa705', properties={'auto_delete_disks': True, 'aux': None, 'clock_divisor': 4, 'disk0': 0, 'disk1': 0, 'dynamips_id': 6, 'exec_area': 64, 'idlemax': 500, 'idlepc': '', 'idlesleep': 30, 'image': 'c7200-advipservicesk9-mz.152-4.S5.image', 'image_md5sum': 'cbbbea66a253f1dac0fcf81274dc778d', 'mac_addr': 'ca06.239c.0000', 'midplane': 'vxr', 'mmap': True, 'npe': 'npe-400', 'nvram': 512, 'platform': 'c7200', 'power_supplies': [1, 1], 'ram': 512, 'sensors': [22, 22, 22, 22], 'slot0': 'C7200-IO-FE', 'slot1': 'PA-GE', 'slot2': 'PA-GE', 'slot3': 'PA-GE', 'slot4': None, 'slot5': None, 'slot6': None, 'sparsemem': True, 'system_id': 'FTX0945W0MY', 'usage': ''}, template=None)\n",
      "Node(name='R7', project_id='f9a30b3e-69d7-4287-b267-f60d3b2b7286', node_id='2d567ca9-8c88-4862-8438-f29d76ede476', compute_id='local', node_type='dynamips', node_directory='C:\\\\Users\\\\User\\\\GNS3\\\\projects\\\\GNS_v0\\\\project-files\\\\dynamips\\\\2d567ca9-8c88-4862-8438-f29d76ede476', status='started', ports=[{'adapter_number': 0, 'data_link_types': {'Ethernet': 'DLT_EN10MB'}, 'link_type': 'ethernet', 'name': 'FastEthernet0/0', 'port_number': 0, 'short_name': 'f0/0'}, {'adapter_number': 1, 'data_link_types': {'Ethernet': 'DLT_EN10MB'}, 'link_type': 'ethernet', 'name': 'GigabitEthernet1/0', 'port_number': 0, 'short_name': 'g1/0'}, {'adapter_number': 2, 'data_link_types': {'Ethernet': 'DLT_EN10MB'}, 'link_type': 'ethernet', 'name': 'GigabitEthernet2/0', 'port_number': 0, 'short_name': 'g2/0'}, {'adapter_number': 3, 'data_link_types': {'Ethernet': 'DLT_EN10MB'}, 'link_type': 'ethernet', 'name': 'GigabitEthernet3/0', 'port_number': 0, 'short_name': 'g3/0'}], port_name_format='Ethernet{0}', port_segment_size=0, first_port_name=None, locked=False, label={'rotation': 0, 'style': 'font-family: TypeWriter;font-size: 10.0;font-weight: bold;fill: #000000;fill-opacity: 1.0;', 'text': 'R7', 'x': 17, 'y': -25}, console=5006, console_host='localhost', console_type='telnet', console_auto_start=False, command_line=None, custom_adapters=[], height=45, width=66, symbol=':/symbols/router.svg', x=313, y=70, z=1, template_id='0a44e74f-7d8f-4608-9d0d-be7b242aa705', properties={'auto_delete_disks': True, 'aux': None, 'clock_divisor': 4, 'disk0': 0, 'disk1': 0, 'dynamips_id': 7, 'exec_area': 64, 'idlemax': 500, 'idlepc': '', 'idlesleep': 30, 'image': 'c7200-advipservicesk9-mz.152-4.S5.image', 'image_md5sum': 'cbbbea66a253f1dac0fcf81274dc778d', 'mac_addr': 'ca07.1fa0.0000', 'midplane': 'vxr', 'mmap': True, 'npe': 'npe-400', 'nvram': 512, 'platform': 'c7200', 'power_supplies': [1, 1], 'ram': 512, 'sensors': [22, 22, 22, 22], 'slot0': 'C7200-IO-FE', 'slot1': 'PA-GE', 'slot2': 'PA-GE', 'slot3': 'PA-GE', 'slot4': None, 'slot5': None, 'slot6': None, 'sparsemem': True, 'system_id': 'FTX0945W0MY', 'usage': ''}, template=None)\n"
     ]
    },
    {
     "ename": "TypeError",
     "evalue": "'NoneType' object is not iterable",
     "output_type": "error",
     "traceback": [
      "\u001b[1;31m---------------------------------------------------------------------------\u001b[0m",
      "\u001b[1;31mTypeError\u001b[0m                                 Traceback (most recent call last)",
      "Cell \u001b[1;32mIn[17], line 11\u001b[0m\n\u001b[0;32m      8\u001b[0m     \u001b[38;5;28mprint\u001b[39m(node)\n\u001b[0;32m     10\u001b[0m links \u001b[38;5;241m=\u001b[39m project\u001b[38;5;241m.\u001b[39mget_links()\n\u001b[1;32m---> 11\u001b[0m \u001b[38;5;28;43;01mfor\u001b[39;49;00m\u001b[43m \u001b[49m\u001b[43mlink\u001b[49m\u001b[43m \u001b[49m\u001b[38;5;129;43;01min\u001b[39;49;00m\u001b[43m \u001b[49m\u001b[43mlinks\u001b[49m\u001b[43m \u001b[49m\u001b[43m:\u001b[49m\n\u001b[0;32m     12\u001b[0m \u001b[43m    \u001b[49m\u001b[38;5;28;43mprint\u001b[39;49m\u001b[43m(\u001b[49m\u001b[43mlinks\u001b[49m\u001b[43m)\u001b[49m\n",
      "\u001b[1;31mTypeError\u001b[0m: 'NoneType' object is not iterable"
     ]
    }
   ],
   "source": [
    "import gns3fy \n",
    "\n",
    "gns3_server = gns3fy.Gns3Connector(\"http://localhost:3080\")\n",
    "project = gns3fy.Project(name=\"GNS_v0\", connector=gns3_server)\n",
    "project.get()\n",
    "\n",
    "for node in project.nodes :\n",
    "    print(node)\n",
    "\n",
    "links = project.get_links()\n",
    "for link in links :\n",
    "    print(links)"
   ]
  }
 ],
 "metadata": {
  "kernelspec": {
   "display_name": "Python 3",
   "language": "python",
   "name": "python3"
  },
  "language_info": {
   "codemirror_mode": {
    "name": "ipython",
    "version": 3
   },
   "file_extension": ".py",
   "mimetype": "text/x-python",
   "name": "python",
   "nbconvert_exporter": "python",
   "pygments_lexer": "ipython3",
   "version": "3.13.0"
  }
 },
 "nbformat": 4,
 "nbformat_minor": 2
}
