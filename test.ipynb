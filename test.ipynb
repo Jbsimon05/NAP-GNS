{
 "cells": [
  {
   "cell_type": "code",
   "execution_count": null,
   "metadata": {},
   "outputs": [],
   "source": [
    "pip install gns3fy"
   ]
  },
  {
   "cell_type": "code",
   "execution_count": 1,
   "metadata": {},
   "outputs": [],
   "source": [
    "import gns3fy"
   ]
  },
  {
   "cell_type": "code",
   "execution_count": 2,
   "metadata": {},
   "outputs": [],
   "source": [
    "server = gns3fy.Gns3Connector(\"http://localhost:3080\")"
   ]
  },
  {
   "cell_type": "code",
   "execution_count": 3,
   "metadata": {},
   "outputs": [],
   "source": [
    "lab = gns3fy.Project(name=\"GNS_v0\", connector=server)"
   ]
  },
  {
   "cell_type": "code",
   "execution_count": 4,
   "metadata": {},
   "outputs": [
    {
     "name": "stdout",
     "output_type": "stream",
     "text": [
      "Project(name='GNS_v0', project_id='f9a30b3e-69d7-4287-b267-f60d3b2b7286', status='opened', path='C:\\\\Users\\\\User\\\\GNS3\\\\projects\\\\GNS_v0', filename='GNS_v0.gns3', auto_start=False, auto_close=True, auto_open=False, drawing_grid_size=25, grid_size=75, scene_height=1000, scene_width=2000, show_grid=False, show_interface_labels=False, show_layers=False, snap_to_grid=False, supplier=None, variables=None, zoom=100, stats={'drawings': 0, 'links': 10, 'nodes': 7, 'snapshots': 0}, snapshots=None, drawings=None)\n"
     ]
    }
   ],
   "source": [
    "lab.get()\n",
    "print(lab)"
   ]
  },
  {
   "cell_type": "code",
   "execution_count": 5,
   "metadata": {},
   "outputs": [
    {
     "name": "stdout",
     "output_type": "stream",
     "text": [
      "Project(name='GNS_v0', project_id='f9a30b3e-69d7-4287-b267-f60d3b2b7286', status='opened', path='C:\\\\Users\\\\User\\\\GNS3\\\\projects\\\\GNS_v0', filename='GNS_v0.gns3', auto_start=False, auto_close=True, auto_open=False, drawing_grid_size=25, grid_size=75, scene_height=1000, scene_width=2000, show_grid=False, show_interface_labels=False, show_layers=False, snap_to_grid=False, supplier=None, variables=None, zoom=100, stats={'drawings': 0, 'links': 10, 'nodes': 7, 'snapshots': 0}, snapshots=None, drawings=None)\n",
      "Node: R1 -- Node Type: dynamips -- Status: started\n",
      "Node: R2 -- Node Type: dynamips -- Status: started\n",
      "Node: R3 -- Node Type: dynamips -- Status: started\n",
      "Node: R4 -- Node Type: dynamips -- Status: started\n",
      "Node: R5 -- Node Type: dynamips -- Status: started\n",
      "Node: R6 -- Node Type: dynamips -- Status: started\n",
      "Node: R7 -- Node Type: dynamips -- Status: started\n"
     ]
    }
   ],
   "source": [
    "import gns3fy\n",
    "\n",
    "# Define the server object to establish the connection\n",
    "gns3_server = gns3fy.Gns3Connector(\"http://localhost:3080\")\n",
    "\n",
    "# Define the lab you want to load and assign the server connector\n",
    "lab = gns3fy.Project(name=\"GNS_v0\", connector=gns3_server)\n",
    "\n",
    "# Retrieve its information and display\n",
    "lab.get()\n",
    "print(lab)\n",
    "\n",
    "# Open the project\n",
    "lab.open()\n",
    "lab.status\n",
    "\n",
    "# Verify the stats\n",
    "lab.stats\n",
    "\n",
    "# List the names and status of all the nodes in the project\n",
    "for node in lab.nodes:\n",
    "    print(f\"Node: {node.name} -- Node Type: {node.node_type} -- Status: {node.status}\")"
   ]
  },
  {
   "cell_type": "code",
   "execution_count": 6,
   "metadata": {},
   "outputs": [
    {
     "name": "stdout",
     "output_type": "stream",
     "text": [
      "GNS_v0\n",
      "NRP_TP_3_BGP\n",
      "NRP_TP_3_BGP_v1\n",
      "untitled\n"
     ]
    }
   ],
   "source": [
    "import gns3fy\n",
    "gns3_server = gns3fy.Gns3Connector(\"http://localhost:3080\")\n",
    "projects = gns3_server.get_projects()\n",
    "for project in projects:\n",
    "    print(project[\"name\"])"
   ]
  },
  {
   "cell_type": "code",
   "execution_count": 11,
   "metadata": {},
   "outputs": [],
   "source": [
    "import gns3fy\n",
    "\n",
    "# Connect to the GNS3 server\n",
    "gns3_server = gns3fy.Gns3Connector(\"http://localhost:3080\")\n",
    "\n",
    "# Define your project name\n",
    "project_name = \"GNS_v0\"\n",
    "project = gns3fy.Project(name=project_name, connector=gns3_server)\n",
    "project.get()\n",
    "\n",
    "# Define network intent: router names, interfaces, and IPv6 addresses\n",
    "network_intent = {\n",
    "    \"Router1\": {\n",
    "        \"interfaces\": {\n",
    "            \"GigabitEthernet0/0\": \"2001:db8:1::1/64\"\n",
    "        },\n",
    "        \"ripng_interfaces\": [\"GigabitEthernet0/0\"]\n",
    "    },\n",
    "    \"Router2\": {\n",
    "        \"interfaces\": {\n",
    "            \"GigabitEthernet0/0\": \"2001:db8:1::2/64\"\n",
    "        },\n",
    "        \"ripng_interfaces\": [\"GigabitEthernet0/0\"]\n",
    "    },\n",
    "    # Add more routers here\n",
    "}\n",
    "\n",
    "# Function to push configurations via Telnet\n",
    "def configure_router(node, config_commands):\n",
    "    node.console_start()  # Start the console if not already running\n",
    "    with node.console() as telnet:\n",
    "        telnet.read_until(b\"Router>\")\n",
    "        telnet.write(b\"enable\\n\")\n",
    "        telnet.read_until(b\"Router#\")\n",
    "        telnet.write(b\"configure terminal\\n\")\n",
    "        \n",
    "        # Apply each configuration command\n",
    "        for command in config_commands:\n",
    "            telnet.write(f\"{command}\\n\".encode())\n",
    "        \n",
    "        telnet.write(b\"end\\n\")\n",
    "        telnet.write(b\"write memory\\n\")\n",
    "        telnet.read_until(b\"Router#\")\n",
    "\n",
    "# Iterate over routers and apply configurations\n",
    "for node in project.nodes:\n",
    "    if node.name in network_intent:\n",
    "        router_config = []\n",
    "        intent = network_intent[node.name]\n",
    "        \n",
    "        # Configure IPv6 addresses\n",
    "        for interface, ipv6_address in intent[\"interfaces\"].items():\n",
    "            router_config.append(f\"interface {interface}\")\n",
    "            router_config.append(f\" ipv6 address {ipv6_address}\")\n",
    "            router_config.append(\" no shutdown\")\n",
    "        \n",
    "        # Enable RIPng\n",
    "        router_config.append(\"ipv6 router rip RIPNG\")\n",
    "        for interface in intent[\"ripng_interfaces\"]:\n",
    "            router_config.append(f\" interface {interface}\")\n",
    "            router_config.append(\" ipv6 rip RIPNG enable\")\n",
    "        \n",
    "        print(f\"Configuring {node.name}...\")\n",
    "        configure_router(node, router_config)\n",
    "        print(f\"{node.name} configured successfully!\")\n"
   ]
  },
  {
   "cell_type": "code",
   "execution_count": 7,
   "metadata": {},
   "outputs": [
    {
     "name": "stdout",
     "output_type": "stream",
     "text": [
      "Server response: [{'auto_close': True, 'auto_open': False, 'auto_start': False, 'drawing_grid_size': 25, 'filename': 'GNS_v0.gns3', 'grid_size': 75, 'name': 'GNS_v0', 'path': 'C:\\\\Users\\\\User\\\\GNS3\\\\projects\\\\GNS_v0', 'project_id': 'f9a30b3e-69d7-4287-b267-f60d3b2b7286', 'scene_height': 1000, 'scene_width': 2000, 'show_grid': False, 'show_interface_labels': False, 'show_layers': False, 'snap_to_grid': False, 'status': 'opened', 'supplier': None, 'variables': None, 'zoom': 100}, {'auto_close': True, 'auto_open': False, 'auto_start': False, 'drawing_grid_size': 25, 'filename': 'NRP_TP_3_BGP.gns3', 'grid_size': 75, 'name': 'NRP_TP_3_BGP', 'path': 'C:\\\\Users\\\\User\\\\GNS3\\\\projects\\\\NRP_TP_3_BGP', 'project_id': 'be9ce004-2fb6-4d9b-b286-be5da3984f5d', 'scene_height': 1000, 'scene_width': 2000, 'show_grid': False, 'show_interface_labels': True, 'show_layers': False, 'snap_to_grid': False, 'status': 'closed', 'supplier': None, 'variables': None, 'zoom': 100}, {'auto_close': False, 'auto_open': False, 'auto_start': False, 'drawing_grid_size': 25, 'filename': 'NRP_TP_3_BGP_v1.gns3', 'grid_size': 75, 'name': 'NRP_TP_3_BGP_v1', 'path': 'C:\\\\Users\\\\User\\\\GNS3\\\\projects\\\\NRP_TP_3_BGP_v1', 'project_id': 'e9b79014-b50c-46f0-93d1-bfcbc17d27e9', 'scene_height': 1000, 'scene_width': 2000, 'show_grid': False, 'show_interface_labels': False, 'show_layers': False, 'snap_to_grid': False, 'status': 'closed', 'supplier': None, 'variables': None, 'zoom': 71}, {'auto_close': True, 'auto_open': False, 'auto_start': False, 'drawing_grid_size': 25, 'filename': 'untitled.gns3', 'grid_size': 75, 'name': 'untitled', 'path': 'C:\\\\Users\\\\User\\\\GNS3\\\\projects\\\\untitled', 'project_id': 'c2bb80d0-7240-4715-a4d2-6554b9711c3d', 'scene_height': 1000, 'scene_width': 2000, 'show_grid': False, 'show_interface_labels': False, 'show_layers': False, 'snap_to_grid': False, 'status': 'closed', 'supplier': None, 'variables': None, 'zoom': 100}]\n"
     ]
    }
   ],
   "source": [
    "import requests\n",
    "\n",
    "response = requests.get(\"http://localhost:3080/v2/projects\")\n",
    "if response.status_code == 200:\n",
    "    print(\"Server response:\", response.json())\n",
    "else:\n",
    "    print(f\"Error: {response.status_code}, Response: {response.text}\")"
   ]
  },
  {
   "cell_type": "code",
   "execution_count": null,
   "metadata": {},
   "outputs": [],
   "source": [
    "pip install --upgrade gns3fy"
   ]
  },
  {
   "cell_type": "code",
   "execution_count": null,
   "metadata": {},
   "outputs": [],
   "source": []
  }
 ],
 "metadata": {
  "kernelspec": {
   "display_name": "Python 3",
   "language": "python",
   "name": "python3"
  },
  "language_info": {
   "codemirror_mode": {
    "name": "ipython",
    "version": 3
   },
   "file_extension": ".py",
   "mimetype": "text/x-python",
   "name": "python",
   "nbconvert_exporter": "python",
   "pygments_lexer": "ipython3",
   "version": "3.13.0"
  }
 },
 "nbformat": 4,
 "nbformat_minor": 2
}
